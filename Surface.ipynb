{
  "nbformat": 4,
  "nbformat_minor": 0,
  "metadata": {
    "colab": {
      "name": "Untitled0.ipynb",
      "provenance": [],
      "collapsed_sections": [],
      "authorship_tag": "ABX9TyPmXUhUp/S4krHgGI8UqOLL",
      "include_colab_link": true
    },
    "kernelspec": {
      "name": "python3",
      "display_name": "Python 3"
    }
  },
  "cells": [
    {
      "cell_type": "markdown",
      "metadata": {
        "id": "view-in-github",
        "colab_type": "text"
      },
      "source": [
        "<a href=\"https://colab.research.google.com/github/themadan/p7.Emotion-detection/blob/master/Surface.ipynb\" target=\"_parent\"><img src=\"https://colab.research.google.com/assets/colab-badge.svg\" alt=\"Open In Colab\"/></a>"
      ]
    },
    {
      "cell_type": "markdown",
      "metadata": {
        "id": "qXn7ex2uziYc",
        "colab_type": "text"
      },
      "source": [
        "# References\n",
        "\n",
        "* [15 basic step for NLP](https://github.com/themadan/12.NLP-ear-and-tongue-sound-and-text-/blob/master/15_natural_language_processing.ipynb)\n",
        "\n",
        "* [Microsoft developer](https://devblogs.microsoft.com/cse/2015/11/29/emotion-detection-and-recognition-from-text-using-deep-learning/)\n",
        "* [Medium](https://medium.com/the-research-nest/applied-machine-learning-part-3-3fd405842a18) <br> [Work](https://github.com/aditya-xq/Text-Emotion-Detection-Using-NLP)\n",
        "* [Compete web application](https://github.com/maelfabien/Multimodal-Emotion-Recognition)\n",
        "\n",
        "* [git](https://github.com/Harsh24893/EmotionRecognition)\n",
        "* [Notebook](https://github.com/abishekarun/Text-Emotion-Classification/blob/master/emotion_classification.ipynb)\n",
        "\n"
      ]
    },
    {
      "cell_type": "markdown",
      "metadata": {
        "id": "DGVMkeTDEeBJ",
        "colab_type": "text"
      },
      "source": [
        "# Import Packages"
      ]
    },
    {
      "cell_type": "code",
      "metadata": {
        "id": "ClTdfIcLE1Pg",
        "colab_type": "code",
        "colab": {}
      },
      "source": [
        "import pandas as pd\n",
        "import numpy as np\n",
        "import seaborn as sns\n",
        "\n",
        "from sklearn.preprocessing import LabelEncoder\n",
        "from sklearn.model_selection import train_test_split\n",
        "from scipy.stats import itemfreq\n",
        "from sklearn.feature_extraction.text import CountVectorizer,TfidfTransformer,HashingVectorizer\n",
        "from sklearn.pipeline import Pipeline\n",
        "\n",
        "\n"
      ],
      "execution_count": 0,
      "outputs": []
    },
    {
      "cell_type": "code",
      "metadata": {
        "id": "pPilBrAlvLc_",
        "colab_type": "code",
        "colab": {
          "base_uri": "https://localhost:8080/",
          "height": 55
        },
        "outputId": "79d830f6-78ea-4e5b-a2b2-c35b68a5af72"
      },
      "source": [
        "from google.colab import drive\n",
        "drive.mount('/drive')"
      ],
      "execution_count": 15,
      "outputs": [
        {
          "output_type": "stream",
          "text": [
            "Drive already mounted at /drive; to attempt to forcibly remount, call drive.mount(\"/drive\", force_remount=True).\n"
          ],
          "name": "stdout"
        }
      ]
    },
    {
      "cell_type": "code",
      "metadata": {
        "id": "2Y9aCaba3bnk",
        "colab_type": "code",
        "colab": {}
      },
      "source": [
        "columns=['sentiment','content']\n",
        "data = pd.read_csv('/drive/My Drive/Fusemachines Nepal/NLP/ISEAR.csv',names=columns)"
      ],
      "execution_count": 0,
      "outputs": []
    },
    {
      "cell_type": "code",
      "metadata": {
        "id": "jvH7rqzV3ed6",
        "colab_type": "code",
        "colab": {
          "base_uri": "https://localhost:8080/",
          "height": 204
        },
        "outputId": "735c651b-6a52-4295-a949-9d339f9e2dc6"
      },
      "source": [
        "data.head()"
      ],
      "execution_count": 18,
      "outputs": [
        {
          "output_type": "execute_result",
          "data": {
            "text/html": [
              "<div>\n",
              "<style scoped>\n",
              "    .dataframe tbody tr th:only-of-type {\n",
              "        vertical-align: middle;\n",
              "    }\n",
              "\n",
              "    .dataframe tbody tr th {\n",
              "        vertical-align: top;\n",
              "    }\n",
              "\n",
              "    .dataframe thead th {\n",
              "        text-align: right;\n",
              "    }\n",
              "</style>\n",
              "<table border=\"1\" class=\"dataframe\">\n",
              "  <thead>\n",
              "    <tr style=\"text-align: right;\">\n",
              "      <th></th>\n",
              "      <th>sentiment</th>\n",
              "      <th>content</th>\n",
              "    </tr>\n",
              "  </thead>\n",
              "  <tbody>\n",
              "    <tr>\n",
              "      <th>0</th>\n",
              "      <td>joy</td>\n",
              "      <td>On days when I feel close to my partner and ot...</td>\n",
              "    </tr>\n",
              "    <tr>\n",
              "      <th>1</th>\n",
              "      <td>fear</td>\n",
              "      <td>Every time I imagine that someone I love or I ...</td>\n",
              "    </tr>\n",
              "    <tr>\n",
              "      <th>2</th>\n",
              "      <td>anger</td>\n",
              "      <td>When I had been obviously unjustly treated and...</td>\n",
              "    </tr>\n",
              "    <tr>\n",
              "      <th>3</th>\n",
              "      <td>sadness</td>\n",
              "      <td>When I think about the short time that we live...</td>\n",
              "    </tr>\n",
              "    <tr>\n",
              "      <th>4</th>\n",
              "      <td>disgust</td>\n",
              "      <td>At a gathering I found myself involuntarily si...</td>\n",
              "    </tr>\n",
              "  </tbody>\n",
              "</table>\n",
              "</div>"
            ],
            "text/plain": [
              "  sentiment                                            content\n",
              "0       joy  On days when I feel close to my partner and ot...\n",
              "1      fear  Every time I imagine that someone I love or I ...\n",
              "2     anger  When I had been obviously unjustly treated and...\n",
              "3   sadness  When I think about the short time that we live...\n",
              "4   disgust  At a gathering I found myself involuntarily si..."
            ]
          },
          "metadata": {
            "tags": []
          },
          "execution_count": 18
        }
      ]
    },
    {
      "cell_type": "code",
      "metadata": {
        "id": "-SvrbG6D34Hz",
        "colab_type": "code",
        "colab": {
          "base_uri": "https://localhost:8080/",
          "height": 35
        },
        "outputId": "2ca51c86-b609-4ee1-e5dc-f2cafc8bf4cb"
      },
      "source": [
        "data.shape"
      ],
      "execution_count": 19,
      "outputs": [
        {
          "output_type": "execute_result",
          "data": {
            "text/plain": [
              "(7446, 2)"
            ]
          },
          "metadata": {
            "tags": []
          },
          "execution_count": 19
        }
      ]
    },
    {
      "cell_type": "code",
      "metadata": {
        "id": "2Hwo6ZRk47Bh",
        "colab_type": "code",
        "colab": {
          "base_uri": "https://localhost:8080/",
          "height": 179
        },
        "outputId": "616e5559-321b-4d84-a63a-78dd8cf5dfd2"
      },
      "source": [
        "data.info()"
      ],
      "execution_count": 20,
      "outputs": [
        {
          "output_type": "stream",
          "text": [
            "<class 'pandas.core.frame.DataFrame'>\n",
            "Int64Index: 7446 entries, 0 to 7445\n",
            "Data columns (total 2 columns):\n",
            " #   Column     Non-Null Count  Dtype \n",
            "---  ------     --------------  ----- \n",
            " 0   sentiment  7446 non-null   object\n",
            " 1   content    7446 non-null   object\n",
            "dtypes: object(2)\n",
            "memory usage: 174.5+ KB\n"
          ],
          "name": "stdout"
        }
      ]
    },
    {
      "cell_type": "code",
      "metadata": {
        "id": "n7cIvXbz5Avl",
        "colab_type": "code",
        "colab": {
          "base_uri": "https://localhost:8080/",
          "height": 161
        },
        "outputId": "9c743c3e-f5db-4868-ea17-68dc9222355a"
      },
      "source": [
        "data.sentiment.value_counts()"
      ],
      "execution_count": 22,
      "outputs": [
        {
          "output_type": "execute_result",
          "data": {
            "text/plain": [
              "joy        1082\n",
              "sadness    1074\n",
              "anger      1069\n",
              "fear       1063\n",
              "disgust    1059\n",
              "shame      1059\n",
              "guilt      1040\n",
              "Name: sentiment, dtype: int64"
            ]
          },
          "metadata": {
            "tags": []
          },
          "execution_count": 22
        }
      ]
    },
    {
      "cell_type": "markdown",
      "metadata": {
        "id": "oUbH2yiP5p0G",
        "colab_type": "text"
      },
      "source": [
        "# Clean Text"
      ]
    },
    {
      "cell_type": "markdown",
      "metadata": {
        "id": "uG0R_AuE51D_",
        "colab_type": "text"
      },
      "source": [
        "Remove irrelevant characters other than alphanumeric and space"
      ]
    },
    {
      "cell_type": "code",
      "metadata": {
        "id": "WpOnjqZ55Mr7",
        "colab_type": "code",
        "colab": {}
      },
      "source": [
        "data['content']=data['content'].str.replace('[^A-Za-z0-9\\s]+', '')"
      ],
      "execution_count": 0,
      "outputs": []
    },
    {
      "cell_type": "markdown",
      "metadata": {
        "id": "TgcswHZZ6SAZ",
        "colab_type": "text"
      },
      "source": [
        "Remove links from the text"
      ]
    },
    {
      "cell_type": "code",
      "metadata": {
        "id": "V6JBP9DX56d_",
        "colab_type": "code",
        "colab": {}
      },
      "source": [
        "data['content']=data['content'].str.replace('http\\S+|www.\\S+', '', case=False)"
      ],
      "execution_count": 0,
      "outputs": []
    },
    {
      "cell_type": "markdown",
      "metadata": {
        "id": "z2Bs7TmM6YXB",
        "colab_type": "text"
      },
      "source": [
        "Convert everything to lowercase"
      ]
    },
    {
      "cell_type": "code",
      "metadata": {
        "id": "jsCdMmap6WWV",
        "colab_type": "code",
        "colab": {}
      },
      "source": [
        "data['content']=data['content'].str.lower()"
      ],
      "execution_count": 0,
      "outputs": []
    },
    {
      "cell_type": "markdown",
      "metadata": {
        "id": "KpeVpQ1I6xOI",
        "colab_type": "text"
      },
      "source": [
        "Assign Target Variable"
      ]
    },
    {
      "cell_type": "code",
      "metadata": {
        "id": "376KY0HO6dJv",
        "colab_type": "code",
        "colab": {}
      },
      "source": [
        "target=data.sentiment\n",
        "data = data.drop(['sentiment'],axis=1)"
      ],
      "execution_count": 0,
      "outputs": []
    },
    {
      "cell_type": "code",
      "metadata": {
        "id": "dcEVWjAQ60Mx",
        "colab_type": "code",
        "colab": {
          "base_uri": "https://localhost:8080/",
          "height": 419
        },
        "outputId": "c73e2506-4e2c-477a-e2e3-a0d567bc5b18"
      },
      "source": [
        "data"
      ],
      "execution_count": 27,
      "outputs": [
        {
          "output_type": "execute_result",
          "data": {
            "text/html": [
              "<div>\n",
              "<style scoped>\n",
              "    .dataframe tbody tr th:only-of-type {\n",
              "        vertical-align: middle;\n",
              "    }\n",
              "\n",
              "    .dataframe tbody tr th {\n",
              "        vertical-align: top;\n",
              "    }\n",
              "\n",
              "    .dataframe thead th {\n",
              "        text-align: right;\n",
              "    }\n",
              "</style>\n",
              "<table border=\"1\" class=\"dataframe\">\n",
              "  <thead>\n",
              "    <tr style=\"text-align: right;\">\n",
              "      <th></th>\n",
              "      <th>content</th>\n",
              "    </tr>\n",
              "  </thead>\n",
              "  <tbody>\n",
              "    <tr>\n",
              "      <th>0</th>\n",
              "      <td>on days when i feel close to my partner and ot...</td>\n",
              "    </tr>\n",
              "    <tr>\n",
              "      <th>1</th>\n",
              "      <td>every time i imagine that someone i love or i ...</td>\n",
              "    </tr>\n",
              "    <tr>\n",
              "      <th>2</th>\n",
              "      <td>when i had been obviously unjustly treated and...</td>\n",
              "    </tr>\n",
              "    <tr>\n",
              "      <th>3</th>\n",
              "      <td>when i think about the short time that we live...</td>\n",
              "    </tr>\n",
              "    <tr>\n",
              "      <th>4</th>\n",
              "      <td>at a gathering i found myself involuntarily si...</td>\n",
              "    </tr>\n",
              "    <tr>\n",
              "      <th>...</th>\n",
              "      <td>...</td>\n",
              "    </tr>\n",
              "    <tr>\n",
              "      <th>7441</th>\n",
              "      <td>last week i had planned to play tennis and had...</td>\n",
              "    </tr>\n",
              "    <tr>\n",
              "      <th>7442</th>\n",
              "      <td>when i was ill and had to stay at the hospital...</td>\n",
              "    </tr>\n",
              "    <tr>\n",
              "      <th>7443</th>\n",
              "      <td>a few days back i was waiting for the bus at t...</td>\n",
              "    </tr>\n",
              "    <tr>\n",
              "      <th>7444</th>\n",
              "      <td>a few days back i had a tutorial class and the...</td>\n",
              "    </tr>\n",
              "    <tr>\n",
              "      <th>7445</th>\n",
              "      <td>once i quarrelled with my sister and after thi...</td>\n",
              "    </tr>\n",
              "  </tbody>\n",
              "</table>\n",
              "<p>7446 rows × 1 columns</p>\n",
              "</div>"
            ],
            "text/plain": [
              "                                                content\n",
              "0     on days when i feel close to my partner and ot...\n",
              "1     every time i imagine that someone i love or i ...\n",
              "2     when i had been obviously unjustly treated and...\n",
              "3     when i think about the short time that we live...\n",
              "4     at a gathering i found myself involuntarily si...\n",
              "...                                                 ...\n",
              "7441  last week i had planned to play tennis and had...\n",
              "7442  when i was ill and had to stay at the hospital...\n",
              "7443  a few days back i was waiting for the bus at t...\n",
              "7444  a few days back i had a tutorial class and the...\n",
              "7445  once i quarrelled with my sister and after thi...\n",
              "\n",
              "[7446 rows x 1 columns]"
            ]
          },
          "metadata": {
            "tags": []
          },
          "execution_count": 27
        }
      ]
    },
    {
      "cell_type": "code",
      "metadata": {
        "id": "hKmBpDCi63u0",
        "colab_type": "code",
        "colab": {
          "base_uri": "https://localhost:8080/",
          "height": 233
        },
        "outputId": "90ba5c5a-0f20-43ea-bb98-fad9bf4bd31f"
      },
      "source": [
        "target"
      ],
      "execution_count": 28,
      "outputs": [
        {
          "output_type": "execute_result",
          "data": {
            "text/plain": [
              "0           joy\n",
              "1          fear\n",
              "2         anger\n",
              "3       sadness\n",
              "4       disgust\n",
              "         ...   \n",
              "7441      anger\n",
              "7442    sadness\n",
              "7443    disgust\n",
              "7444      shame\n",
              "7445      guilt\n",
              "Name: sentiment, Length: 7446, dtype: object"
            ]
          },
          "metadata": {
            "tags": []
          },
          "execution_count": 28
        }
      ]
    },
    {
      "cell_type": "markdown",
      "metadata": {
        "id": "nILk9azI7BEz",
        "colab_type": "text"
      },
      "source": [
        "LabelEncoder for target."
      ]
    },
    {
      "cell_type": "code",
      "metadata": {
        "id": "z2kZ3XOL691J",
        "colab_type": "code",
        "colab": {}
      },
      "source": [
        "le=LabelEncoder()\n",
        "target=le.fit_transform(target)"
      ],
      "execution_count": 0,
      "outputs": []
    },
    {
      "cell_type": "markdown",
      "metadata": {
        "id": "VAq6noIm7WvI",
        "colab_type": "text"
      },
      "source": [
        "Split Data into train & test"
      ]
    },
    {
      "cell_type": "code",
      "metadata": {
        "id": "CWx_wWiD7HNt",
        "colab_type": "code",
        "colab": {}
      },
      "source": [
        "X_train, X_test, y_train, y_test = train_test_split(data,target,stratify=target,test_size=0.4, random_state=42)"
      ],
      "execution_count": 0,
      "outputs": []
    },
    {
      "cell_type": "markdown",
      "metadata": {
        "id": "I5QIT6CX7m2-",
        "colab_type": "text"
      },
      "source": [
        "Check if the split divides the classes uniformly"
      ]
    },
    {
      "cell_type": "code",
      "metadata": {
        "id": "MQqiy5pp7bbA",
        "colab_type": "code",
        "colab": {
          "base_uri": "https://localhost:8080/",
          "height": 217
        },
        "outputId": "31674da5-8c7b-4183-8f6f-7a6d01bfbc7e"
      },
      "source": [
        "itemfreq(y_train)"
      ],
      "execution_count": 33,
      "outputs": [
        {
          "output_type": "stream",
          "text": [
            "/usr/local/lib/python3.6/dist-packages/ipykernel_launcher.py:3: DeprecationWarning: `itemfreq` is deprecated!\n",
            "`itemfreq` is deprecated and will be removed in a future version. Use instead `np.unique(..., return_counts=True)`\n",
            "  This is separate from the ipykernel package so we can avoid doing imports until\n"
          ],
          "name": "stderr"
        },
        {
          "output_type": "execute_result",
          "data": {
            "text/plain": [
              "array([[  0, 641],\n",
              "       [  1, 635],\n",
              "       [  2, 638],\n",
              "       [  3, 624],\n",
              "       [  4, 649],\n",
              "       [  5, 644],\n",
              "       [  6, 636]])"
            ]
          },
          "metadata": {
            "tags": []
          },
          "execution_count": 33
        }
      ]
    },
    {
      "cell_type": "code",
      "metadata": {
        "id": "2a-lQa3671vg",
        "colab_type": "code",
        "colab": {
          "base_uri": "https://localhost:8080/",
          "height": 217
        },
        "outputId": "c46cab3d-31e0-4b71-87cc-fe87232e3abc"
      },
      "source": [
        "itemfreq(y_test)"
      ],
      "execution_count": 34,
      "outputs": [
        {
          "output_type": "stream",
          "text": [
            "/usr/local/lib/python3.6/dist-packages/ipykernel_launcher.py:1: DeprecationWarning: `itemfreq` is deprecated!\n",
            "`itemfreq` is deprecated and will be removed in a future version. Use instead `np.unique(..., return_counts=True)`\n",
            "  \"\"\"Entry point for launching an IPython kernel.\n"
          ],
          "name": "stderr"
        },
        {
          "output_type": "execute_result",
          "data": {
            "text/plain": [
              "array([[  0, 428],\n",
              "       [  1, 424],\n",
              "       [  2, 425],\n",
              "       [  3, 416],\n",
              "       [  4, 433],\n",
              "       [  5, 430],\n",
              "       [  6, 423]])"
            ]
          },
          "metadata": {
            "tags": []
          },
          "execution_count": 34
        }
      ]
    },
    {
      "cell_type": "markdown",
      "metadata": {
        "id": "Urz0ZQnq79zM",
        "colab_type": "text"
      },
      "source": [
        "# Tokenization"
      ]
    },
    {
      "cell_type": "markdown",
      "metadata": {
        "id": "20a_MSaa8Dte",
        "colab_type": "text"
      },
      "source": [
        "Tokenization can be done in a variety of ways, namely Bag of words, tf-idf, Glove, word2vec ,fasttext etc. Lets see how they can be applied and how they affect the accuracy"
      ]
    },
    {
      "cell_type": "markdown",
      "metadata": {
        "id": "PQfIQXcW8Hnz",
        "colab_type": "text"
      },
      "source": [
        "Bag of Words"
      ]
    },
    {
      "cell_type": "code",
      "metadata": {
        "id": "o_aqzwB674bu",
        "colab_type": "code",
        "colab": {
          "base_uri": "https://localhost:8080/",
          "height": 35
        },
        "outputId": "9a2f6472-3623-4b6f-c3bb-8d693646d47f"
      },
      "source": [
        "count_vect = CountVectorizer()\n",
        "X_train_counts = count_vect.fit_transform(X_train.content)\n",
        "X_test_counts =count_vect.transform(X_test.content)\n",
        "print('Shape of Term Frequency Matrix: ',X_train_counts.shape)"
      ],
      "execution_count": 37,
      "outputs": [
        {
          "output_type": "stream",
          "text": [
            "Shape of Term Frequency Matrix:  (4467, 7065)\n"
          ],
          "name": "stdout"
        }
      ]
    },
    {
      "cell_type": "markdown",
      "metadata": {
        "id": "92gC5e1B9A0R",
        "colab_type": "text"
      },
      "source": [
        "Naive Bayes Model"
      ]
    },
    {
      "cell_type": "code",
      "metadata": {
        "id": "HcZwSKmt8K_9",
        "colab_type": "code",
        "colab": {
          "base_uri": "https://localhost:8080/",
          "height": 35
        },
        "outputId": "f49cec13-b871-46b1-c459-46713d2e7e76"
      },
      "source": [
        "from sklearn.naive_bayes import MultinomialNB\n",
        "\n",
        "\n",
        "# Machine Learning\n",
        "# Training Naive Bayes (NB) classifier on training data.\n",
        "clf = MultinomialNB().fit(X_train_counts,y_train)\n",
        "predicted = clf.predict(X_test_counts)\n",
        "nb_clf_accuracy = np.mean(predicted == y_test) * 100\n",
        "print(nb_clf_accuracy)"
      ],
      "execution_count": 39,
      "outputs": [
        {
          "output_type": "stream",
          "text": [
            "54.98489425981873\n"
          ],
          "name": "stdout"
        }
      ]
    },
    {
      "cell_type": "markdown",
      "metadata": {
        "id": "vE3KszbT_poC",
        "colab_type": "text"
      },
      "source": [
        "Same thing can be done using a Pipeline¶"
      ]
    },
    {
      "cell_type": "markdown",
      "metadata": {
        "id": "GQ-8py5w_sH2",
        "colab_type": "text"
      },
      "source": [
        "Lets take a look at how it can be done.\n",
        "First lets define a function for printing accuracy"
      ]
    },
    {
      "cell_type": "code",
      "metadata": {
        "id": "1qCghGN69MaW",
        "colab_type": "code",
        "colab": {}
      },
      "source": [
        "def print_acc(model):\n",
        "    predicted = model.predict(X_test.content)\n",
        "    accuracy = np.mean(predicted == y_test) * 100\n",
        "    print(accuracy)"
      ],
      "execution_count": 0,
      "outputs": []
    },
    {
      "cell_type": "code",
      "metadata": {
        "id": "uUJ9MnKb_usJ",
        "colab_type": "code",
        "colab": {
          "base_uri": "https://localhost:8080/",
          "height": 35
        },
        "outputId": "9773055d-a81e-42e3-cd9a-3c86d42c56db"
      },
      "source": [
        "\n",
        "\n",
        "nb_clf = Pipeline([('vect', CountVectorizer()), ('clf', MultinomialNB())])\n",
        "nb_clf = nb_clf.fit(X_train.content,y_train)\n",
        "print_acc(nb_clf)"
      ],
      "execution_count": 42,
      "outputs": [
        {
          "output_type": "stream",
          "text": [
            "54.98489425981873\n"
          ],
          "name": "stdout"
        }
      ]
    },
    {
      "cell_type": "markdown",
      "metadata": {
        "id": "8Kxx2-Q5_72U",
        "colab_type": "text"
      },
      "source": [
        "TF IDF transformer"
      ]
    },
    {
      "cell_type": "code",
      "metadata": {
        "id": "dkxdQeeT_xPo",
        "colab_type": "code",
        "colab": {
          "base_uri": "https://localhost:8080/",
          "height": 35
        },
        "outputId": "050fc118-ce3b-4365-dc57-3a7365f8e379"
      },
      "source": [
        "nb_clf = Pipeline([('vect', CountVectorizer()), ('tfidf', TfidfTransformer()), ('clf', MultinomialNB())])\n",
        "nb_clf = nb_clf.fit(X_train.content,y_train)\n",
        "print_acc(nb_clf)"
      ],
      "execution_count": 43,
      "outputs": [
        {
          "output_type": "stream",
          "text": [
            "55.72339711312521\n"
          ],
          "name": "stdout"
        }
      ]
    },
    {
      "cell_type": "markdown",
      "metadata": {
        "id": "kGno5J83AC4P",
        "colab_type": "text"
      },
      "source": [
        "Hash Vectorizer\n",
        "\n",
        "\n",
        "Note: Naive Bayes requires input to be non negative. Therefore, the alternate sign should be set to false in Hashing Vectorizer to make it work with naive bayes algorithm"
      ]
    },
    {
      "cell_type": "code",
      "metadata": {
        "id": "czmNQbnA_-nm",
        "colab_type": "code",
        "colab": {
          "base_uri": "https://localhost:8080/",
          "height": 35
        },
        "outputId": "58c3ef32-4203-4513-a436-f4f471d5a3d9"
      },
      "source": [
        "nb_clf = Pipeline([('vect', HashingVectorizer(n_features=2500,alternate_sign=False)), ('tfidf', TfidfTransformer()), ('clf', MultinomialNB())])\n",
        "nb_clf = nb_clf.fit(X_train.content,y_train)\n",
        "print_acc(nb_clf)"
      ],
      "execution_count": 44,
      "outputs": [
        {
          "output_type": "stream",
          "text": [
            "51.42665323934206\n"
          ],
          "name": "stdout"
        }
      ]
    },
    {
      "cell_type": "code",
      "metadata": {
        "id": "WDh_1YLEAGVO",
        "colab_type": "code",
        "colab": {
          "base_uri": "https://localhost:8080/",
          "height": 143
        },
        "outputId": "1596b5c3-9f08-4ff2-c044-83d877628b63"
      },
      "source": [
        "from sklearn.metrics import confusion_matrix\n",
        "\n",
        "confusion_matrix(y_test,predicted)"
      ],
      "execution_count": 46,
      "outputs": [
        {
          "output_type": "execute_result",
          "data": {
            "text/plain": [
              "array([[200,  31,  32,  77,  20,  26,  42],\n",
              "       [ 63, 206,  35,  39,  17,  26,  38],\n",
              "       [ 23,  16, 287,  28,  32,  22,  17],\n",
              "       [ 60,  13,  30, 220,  14,  37,  42],\n",
              "       [ 36,   6,  13,  37, 284,  40,  17],\n",
              "       [ 36,   8,  21,  46,  30, 267,  22],\n",
              "       [ 69,  30,  25,  76,  27,  22, 174]])"
            ]
          },
          "metadata": {
            "tags": []
          },
          "execution_count": 46
        }
      ]
    },
    {
      "cell_type": "markdown",
      "metadata": {
        "id": "StW_khciAShq",
        "colab_type": "text"
      },
      "source": [
        "Remove Stop Words"
      ]
    },
    {
      "cell_type": "code",
      "metadata": {
        "id": "X9w7DhW-AcJO",
        "colab_type": "code",
        "colab": {
          "base_uri": "https://localhost:8080/",
          "height": 71
        },
        "outputId": "fbba127a-4834-497d-ced5-282d4da4d2f1"
      },
      "source": [
        "import nltk\n",
        "\n",
        "from nltk.corpus import stopwords\n",
        "\n",
        "nltk.download(\"stopwords\")"
      ],
      "execution_count": 51,
      "outputs": [
        {
          "output_type": "stream",
          "text": [
            "[nltk_data] Downloading package stopwords to /root/nltk_data...\n",
            "[nltk_data]   Unzipping corpora/stopwords.zip.\n"
          ],
          "name": "stdout"
        },
        {
          "output_type": "execute_result",
          "data": {
            "text/plain": [
              "True"
            ]
          },
          "metadata": {
            "tags": []
          },
          "execution_count": 51
        }
      ]
    },
    {
      "cell_type": "code",
      "metadata": {
        "id": "zvoLH589AJa4",
        "colab_type": "code",
        "colab": {
          "base_uri": "https://localhost:8080/",
          "height": 35
        },
        "outputId": "e1dff0bc-28e5-47cb-e372-b7c5474fce27"
      },
      "source": [
        "stop_words = set(stopwords.words('english'))\n",
        "nb_clf = Pipeline([('vect', CountVectorizer(stop_words=stop_words)), ('clf', MultinomialNB())])\n",
        "nb_clf = nb_clf.fit(X_train.content,y_train)\n",
        "print_acc(nb_clf)"
      ],
      "execution_count": 52,
      "outputs": [
        {
          "output_type": "stream",
          "text": [
            "55.085599194360526\n"
          ],
          "name": "stdout"
        }
      ]
    },
    {
      "cell_type": "code",
      "metadata": {
        "id": "sPrhJfvUAVaS",
        "colab_type": "code",
        "colab": {
          "base_uri": "https://localhost:8080/",
          "height": 35
        },
        "outputId": "f801ab1a-d822-451a-c930-6e3a05265c14"
      },
      "source": [
        "nb_clf = Pipeline([('vect', CountVectorizer(stop_words=stop_words)), ('tfidf', TfidfTransformer()), ('clf', MultinomialNB())])\n",
        "nb_clf = nb_clf.fit(X_train.content,y_train)\n",
        "print_acc(nb_clf)"
      ],
      "execution_count": 53,
      "outputs": [
        {
          "output_type": "stream",
          "text": [
            "55.052030882846594\n"
          ],
          "name": "stdout"
        }
      ]
    },
    {
      "cell_type": "markdown",
      "metadata": {
        "id": "gjH03HFZBKj3",
        "colab_type": "text"
      },
      "source": [
        "Lemmatization"
      ]
    },
    {
      "cell_type": "code",
      "metadata": {
        "id": "tUIBwXe3BHbP",
        "colab_type": "code",
        "colab": {
          "base_uri": "https://localhost:8080/",
          "height": 181
        },
        "outputId": "1b937e18-c914-47da-e93d-5dddbc4c0798"
      },
      "source": [
        "nltk.download('wordnet')\n",
        "\n",
        "w_tokenizer = nltk.tokenize.WhitespaceTokenizer()\n",
        "lemmatizer = nltk.stem.WordNetLemmatizer()\n",
        "\n",
        "def lemmatize_text(text):\n",
        "    return ' '.join([lemmatizer.lemmatize(w) for w in w_tokenizer.tokenize(text)])\n",
        "X_train.loc[:,'content'] = X_train['content'].apply(lemmatize_text)\n",
        "X_test.loc[:,'content'] = X_test['content'].apply(lemmatize_text)"
      ],
      "execution_count": 55,
      "outputs": [
        {
          "output_type": "stream",
          "text": [
            "[nltk_data] Downloading package wordnet to /root/nltk_data...\n",
            "[nltk_data]   Unzipping corpora/wordnet.zip.\n"
          ],
          "name": "stdout"
        },
        {
          "output_type": "stream",
          "text": [
            "/usr/local/lib/python3.6/dist-packages/pandas/core/indexing.py:1048: SettingWithCopyWarning: \n",
            "A value is trying to be set on a copy of a slice from a DataFrame.\n",
            "Try using .loc[row_indexer,col_indexer] = value instead\n",
            "\n",
            "See the caveats in the documentation: https://pandas.pydata.org/pandas-docs/stable/user_guide/indexing.html#returning-a-view-versus-a-copy\n",
            "  self.obj[item_labels[indexer[info_axis]]] = value\n"
          ],
          "name": "stderr"
        }
      ]
    },
    {
      "cell_type": "code",
      "metadata": {
        "id": "raXoA7JmBNWm",
        "colab_type": "code",
        "colab": {
          "base_uri": "https://localhost:8080/",
          "height": 35
        },
        "outputId": "ca150ca5-962c-4a40-8b24-9ad7e210c022"
      },
      "source": [
        "nb_clf = Pipeline([('vect', CountVectorizer(stop_words=stop_words)), ('tfidf', TfidfTransformer()), ('clf', MultinomialNB())])\n",
        "nb_clf = nb_clf.fit(X_train.content,y_train)\n",
        "print_acc(nb_clf)"
      ],
      "execution_count": 56,
      "outputs": [
        {
          "output_type": "stream",
          "text": [
            "55.11916750587446\n"
          ],
          "name": "stdout"
        }
      ]
    },
    {
      "cell_type": "code",
      "metadata": {
        "id": "FON7nr42BWHk",
        "colab_type": "code",
        "colab": {}
      },
      "source": [
        ""
      ],
      "execution_count": 0,
      "outputs": []
    }
  ]
}